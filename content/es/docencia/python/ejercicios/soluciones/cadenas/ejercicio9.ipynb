{
  "cells": [
    {
      "cell_type": "markdown",
      "metadata": {
        "id": "tyVaYIq1URYc"
      },
      "source": [
        "## Ejercicio\n",
        "\n",
        "Escribir un programa que pregunte al usuario la fecha de su nacimiento en formato `dd/mm/aaaa` y muestra por pantalla, el día, el mes y el año."
      ]
    },
    {
      "cell_type": "markdown",
      "metadata": {
        "id": "kEGH6hHJURYl"
      },
      "source": [
        "## Solución 1"
      ]
    },
    {
      "source": [
        "fecha = input(\"Introduce la fecha de tu nacimiento en formato dd/mm/aaaa: \")\n",
        "print('Día', fecha[:2])\n",
        "print('Mes', fecha[3:5])\n",
        "print('Año', fecha[6:])"
      ],
      "cell_type": "code",
      "metadata": {
        "id": "h9Iri_C1URYm",
        "outputId": "d2fe6b6a-7c7d-4b3a-cb36-47b22fc09f75"
      },
      "execution_count": null,
      "outputs": [
        {
          "output_type": "stream",
          "name": "stdout",
          "text": [
            "Día 03\nMes 04\nAño 2012\n"
          ]
        }
      ]
    },
    {
      "source": [
        "Adaptar el programa anterior para que también funcione cuando el día o el mes se introduzcan con un solo carácter."
      ],
      "cell_type": "markdown",
      "metadata": {
        "id": "R-c5B6cYURYp"
      }
    },
    {
      "cell_type": "code",
      "execution_count": null,
      "metadata": {
        "id": "VcM2VMH4URYq",
        "outputId": "2ad4c84b-1222-49f7-a814-61ab6c4af16b"
      },
      "outputs": [
        {
          "output_type": "stream",
          "name": "stdout",
          "text": [
            "Día 3\nMes 4\nAño 2012\n"
          ]
        }
      ],
      "source": [
        "fecha = input(\"Introduce la fecha de tu nacimiento en formato día/mes/año: \")\n",
        "dia = fecha[:fecha.find('/')]\n",
        "mesaño = fecha[fecha.find('/')+1:]\n",
        "mes = mesaño[:mesaño.find('/')]\n",
        "año = mesaño[mesaño.find('/')+1:]\n",
        "print('Día', dia)\n",
        "print('Mes', mes)\n",
        "print('Año', año)"
      ]
    },
    {
      "cell_type": "code",
      "execution_count": 4,
      "metadata": {
        "id": "ljoZqZ8HURYr",
        "outputId": "0ac72493-3b03-4194-c31c-54bb7a347baa",
        "colab": {
          "base_uri": "https://localhost:8080/"
        }
      },
      "outputs": [
        {
          "output_type": "stream",
          "name": "stdout",
          "text": [
            "Introduce una divisa: yen\n",
            "El simbolo de Yen: ¥\n"
          ]
        }
      ],
      "source": [
        "#Moenda\n",
        "moneda={'Euro':'€', 'Dollar':'$', 'Yen':'¥'}\n",
        "moneda_selec=input(\"Introduce una divisa: \").capitalize()\n",
        "\n",
        "print(f'El simbolo de {moneda_selec}: {moneda[moneda_selec]}')\n"
      ]
    },
    {
      "cell_type": "code",
      "source": [
        "#Progrma de datos personales\n",
        "requisitos=[\"Nombre\",\"Edad\",\"Dirección\",\"Teléfono\"]\n",
        "datos=[]\n",
        "for i in requisitos:\n",
        "    datos.append(input(f'Ingrese su {i}: '))\n",
        "#Diccionarios\n",
        "datos_per={}\n",
        "for key, values in zip(requisitos, datos):\n",
        "    datos_per[key]=values\n",
        "print(f'{datos_per[\"Nombre\"]} tiene {datos_per[\"Edad\"]} vive en {datos_per[\"Dirección\"]}, con número de Tel.: {datos_per[\"Teléfono\"]}')"
      ],
      "metadata": {
        "id": "yQ0RAEsCVolG",
        "outputId": "0c9db860-0434-49d0-dc39-e7e0fe728738",
        "colab": {
          "base_uri": "https://localhost:8080/"
        }
      },
      "execution_count": 6,
      "outputs": [
        {
          "output_type": "stream",
          "name": "stdout",
          "text": [
            "Ingrese su Nombre: David\n",
            "Ingrese su Edad: 28\n",
            "Ingrese su Dirección: Clara Chuchio\n",
            "Ingrese su Teléfono: 69079334\n",
            "David tiene 28 vive en Clara Chuchio, con número de Tel.: 69079334\n"
          ]
        }
      ]
    },
    {
      "cell_type": "code",
      "source": [
        "precios={\"Platáno\":1.35, \"Manzana\":0.8, \"Pera\":0.85,\"Naranja\":0.70}\n",
        "fruta=input(\"Introduce la fruta: \").capitalize()\n",
        "\n",
        "if fruta in precios:\n",
        "    print(f'El precio del Kg de {fruta}: {precios[fruta]}')\n",
        "else:\n",
        "    print(\"Error la fruta no esta en la canasata\")\n",
        "    fruta=input(\"Introduce la fruta: \").capitalize()\n",
        "    print(f'El precio del Kg de {fruta}: {precios[fruta]}')\n",
        "print(\"Gracias por cosultar\")\n",
        "\n"
      ],
      "metadata": {
        "id": "HsPawQN7YOkM",
        "outputId": "16f168c9-2c4a-42e7-efa8-6aaa7db8532a",
        "colab": {
          "base_uri": "https://localhost:8080/"
        }
      },
      "execution_count": 11,
      "outputs": [
        {
          "output_type": "stream",
          "name": "stdout",
          "text": [
            "Introduce la fruta: Toronja\n",
            "Error la fruta no esta en la canasata\n",
            "Introduce la fruta: naranja\n",
            "El precio del Kg de Naranja: 0.7\n",
            "Gracias por cosultar\n"
          ]
        }
      ]
    },
    {
      "cell_type": "code",
      "source": [
        "#Fecha\n",
        "##Listas\n",
        "datos=[\"Dia\",\"Mes\",\"Año\"]\n",
        "fecha=input(\"Introduce la fecha dd/mm/aaaa: \").split(\"/\")\n",
        "\n",
        "dicc_fecha={}\n",
        "for keys, values in zip(datos,fecha):\n",
        "    dicc_fecha[keys]=values\n",
        "print(f'Día: {dicc_fecha[\"Dia\"]}, Mes: {dicc_fecha[\"Mes\"]}, Año: {dicc_fecha[\"Año\"]}')\n"
      ],
      "metadata": {
        "id": "hKUOAzzobbdX",
        "outputId": "4405a1ed-20da-41b4-a1df-d8a40ecbfe2c",
        "colab": {
          "base_uri": "https://localhost:8080/"
        }
      },
      "execution_count": 12,
      "outputs": [
        {
          "output_type": "stream",
          "name": "stdout",
          "text": [
            "Introduce la fecha dd/mm/aaaa: 16/12/1997\n",
            "Día: 16, Mes: 12, Año: 1997\n"
          ]
        }
      ]
    },
    {
      "cell_type": "code",
      "source": [
        "#Asignatura y Creditos\n",
        "Materias= {'Matemáticas': 6, 'Física': 4, 'Química': 5}\n",
        "print(f'{\"Asignatura\":<14} {\"Creditos\":<10}')\n",
        "for keys, values in Materias.items():\n",
        "    print(f'{keys:<13} {values:^10}')\n",
        "print(f'{\"Total\":<13} {sum(Materias.values()):^10.0f}')\n"
      ],
      "metadata": {
        "id": "pV7I1zOPdVlY",
        "outputId": "b8c69269-026d-4205-882c-ab9695cef7a0",
        "colab": {
          "base_uri": "https://localhost:8080/"
        }
      },
      "execution_count": 18,
      "outputs": [
        {
          "output_type": "stream",
          "name": "stdout",
          "text": [
            "Asignatura     Creditos  \n",
            "Matemáticas       6     \n",
            "Física            4     \n",
            "Química           5     \n",
            "Total             15    \n"
          ]
        }
      ]
    },
    {
      "cell_type": "code",
      "source": [
        "#Tabla\n",
        "columns=[\"nombre\", \"edad\", \"sexo\", \"teléfono\", \"correo electrónico\"]\n",
        "dicc_DP={}\n",
        "for i in columns:\n",
        "  #La primera vez me creas las col\n",
        "    if i not in dicc_DP:\n",
        "        dicc_DP[i]=[input(f'Ingresa  {i.capitalize()}: ')]\n",
        "    else:\n",
        "      #Solo añades las los datos en las listas de valores\n",
        "       dicc_DP[i].append(input(f'Ingresa  {i.capitalize()}: '))\n",
        "#La tabla\n",
        "#Titulos\n",
        "for col in columns:\n",
        "    print(f'{col.capitalize():<10}', end='')\n",
        "#Los datos\n",
        "for i in range(1):\n",
        "    for col in columns:\n",
        "        print(f\"{dicc_DP[col][i]:<20}\", end='')\n",
        "    print()"
      ],
      "metadata": {
        "id": "jUF0zNPTe0M2",
        "outputId": "26608f55-cf25-44c4-fc9e-366d8bc7a234",
        "colab": {
          "base_uri": "https://localhost:8080/",
          "height": 297
        }
      },
      "execution_count": 33,
      "outputs": [
        {
          "output_type": "stream",
          "name": "stdout",
          "text": [
            "Ingresa  Nombre: David\n",
            "Ingresa  Edad: 23\n",
            "Ingresa  Sexo: Hombre\n",
            "Ingresa  Teléfono: 69079334\n",
            "Ingresa  Correo electrónico: dam@gamail.com\n",
            "Nombre    Edad      Sexo      Teléfono  Correo electrónico"
          ]
        },
        {
          "output_type": "error",
          "ename": "IndexError",
          "evalue": "list index out of range",
          "traceback": [
            "\u001b[0;31m---------------------------------------------------------------------------\u001b[0m",
            "\u001b[0;31mIndexError\u001b[0m                                Traceback (most recent call last)",
            "\u001b[0;32m/tmp/ipython-input-2093114503.py\u001b[0m in \u001b[0;36m<cell line: 0>\u001b[0;34m()\u001b[0m\n\u001b[1;32m     16\u001b[0m \u001b[0;32mfor\u001b[0m \u001b[0mi\u001b[0m \u001b[0;32min\u001b[0m \u001b[0mrange\u001b[0m\u001b[0;34m(\u001b[0m\u001b[0;36m1\u001b[0m\u001b[0;34m,\u001b[0m\u001b[0;36m2\u001b[0m\u001b[0;34m)\u001b[0m\u001b[0;34m:\u001b[0m\u001b[0;34m\u001b[0m\u001b[0;34m\u001b[0m\u001b[0m\n\u001b[1;32m     17\u001b[0m     \u001b[0;32mfor\u001b[0m \u001b[0mcol\u001b[0m \u001b[0;32min\u001b[0m \u001b[0mcolumns\u001b[0m\u001b[0;34m:\u001b[0m\u001b[0;34m\u001b[0m\u001b[0;34m\u001b[0m\u001b[0m\n\u001b[0;32m---> 18\u001b[0;31m         \u001b[0mprint\u001b[0m\u001b[0;34m(\u001b[0m\u001b[0;34mf\"{dicc_DP[col][i]:<20}\"\u001b[0m\u001b[0;34m,\u001b[0m \u001b[0mend\u001b[0m\u001b[0;34m=\u001b[0m\u001b[0;34m''\u001b[0m\u001b[0;34m)\u001b[0m\u001b[0;34m\u001b[0m\u001b[0;34m\u001b[0m\u001b[0m\n\u001b[0m\u001b[1;32m     19\u001b[0m     \u001b[0mprint\u001b[0m\u001b[0;34m(\u001b[0m\u001b[0;34m)\u001b[0m\u001b[0;34m\u001b[0m\u001b[0;34m\u001b[0m\u001b[0m\n",
            "\u001b[0;31mIndexError\u001b[0m: list index out of range"
          ]
        }
      ]
    },
    {
      "cell_type": "code",
      "source": [
        "columns=[\"nombre\", \"edad\", \"sexo\", \"teléfono\", \"correo electrónico\"]\n",
        "print(columns)"
      ],
      "metadata": {
        "id": "HuhRB4p6haKB",
        "outputId": "f6915534-6230-4640-a38b-b9bae9437417",
        "colab": {
          "base_uri": "https://localhost:8080/"
        }
      },
      "execution_count": 26,
      "outputs": [
        {
          "output_type": "stream",
          "name": "stdout",
          "text": [
            "['nombre', 'edad', 'sexo', 'teléfono', 'correo electrónico']\n"
          ]
        }
      ]
    },
    {
      "cell_type": "code",
      "source": [],
      "metadata": {
        "id": "75VKZKwmilQ7"
      },
      "execution_count": null,
      "outputs": []
    }
  ],
  "metadata": {
    "kernelspec": {
      "display_name": "Python 3",
      "language": "python",
      "name": "python3"
    },
    "language_info": {
      "codemirror_mode": {
        "name": "ipython",
        "version": 3
      },
      "file_extension": ".py",
      "mimetype": "text/x-python",
      "name": "python",
      "nbconvert_exporter": "python",
      "pygments_lexer": "ipython3",
      "version": "3.9.1-final"
    },
    "colab": {
      "provenance": []
    }
  },
  "nbformat": 4,
  "nbformat_minor": 0
}